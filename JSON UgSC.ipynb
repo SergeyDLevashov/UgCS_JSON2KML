{
 "cells": [
  {
   "cell_type": "code",
   "execution_count": null,
   "metadata": {},
   "outputs": [],
   "source": [
    "# Fast and simple reading points and polygons from UgCS JSON exported file and make a simple KML\n",
    "\n",
    "import json\n",
    "import math\n",
    "\n",
    "with open(\"D:\\DJI Flight Records\\mission.json\", \"r\") as read_file:\n",
    "    data = json.load(read_file)\n",
    "    \n",
    "f = open(\"D:\\DJI Flight Records\\mission.kml\", \"w\")\n"
   ]
  },
  {
   "cell_type": "code",
   "execution_count": null,
   "metadata": {
    "scrolled": false
   },
   "outputs": [],
   "source": [
    "print (\"Number of elements:\" , len(data[\"mission\"][\"routes\"]))\n",
    "\n",
    "f.write('<?xml version=\"1.0\" encoding=\"UTF-8\"?>\\n<kml xmlns=\"http://www.opengis.net/kml/2.2\">\\n<Document>\\n')\n",
    "\n",
    "for routes in data[\"mission\"][\"routes\"]:\n",
    "    routename=routes[\"name\"]\n",
    "    for segments in routes[\"segments\"]:\n",
    "        print (segments[\"type\"])\n",
    "        if segments[\"type\"]==\"Waypoint\":\n",
    "            f.write('\\n<Placemark>\\n\\t<name>{}</name>\\n\\t<description></description>\\n\\t<Point>\\n'.format(routename))\n",
    "            f.write('\\t<coordinates>{},{},100</coordinates>\\n\\t</Point>\\n</Placemark>\\n'.format(math.degrees(segments[\"point\"][\"longitude\"]),math.degrees(segments[\"point\"][\"latitude\"]),segments[\"point\"][\"altitude\"]))\n",
    "        if segments[\"type\"]==\"AreaScan\":\n",
    "            f.write('\\n<Placemark>\\n\\t<name>{}</name>\\n\\t<description></description>\\n'.format(routename))\n",
    "            f.write('\\t<Polygon><outerBoundaryIs><LinearRing><tessellate>1</tessellate><coordinates>\\n')\n",
    "            for points in segments[\"polygon\"][\"points\"]:\n",
    "                f.write('\\t\\t{},{},{}\\n'.format(math.degrees(points[\"longitude\"]),math.degrees(points[\"latitude\"]),points[\"altitude\"]))\n",
    "                print (points)\n",
    "            f.write('\\t</coordinates></LinearRing></outerBoundaryIs></Polygon></Placemark>\\n')\n",
    "\n",
    "f.write(' </Document>\\n</kml>\\n')\n",
    "f.close()"
   ]
  },
  {
   "cell_type": "code",
   "execution_count": null,
   "metadata": {},
   "outputs": [],
   "source": []
  },
  {
   "cell_type": "code",
   "execution_count": null,
   "metadata": {},
   "outputs": [],
   "source": []
  }
 ],
 "metadata": {
  "kernelspec": {
   "display_name": "Python 3",
   "language": "python",
   "name": "python3"
  },
  "language_info": {
   "codemirror_mode": {
    "name": "ipython",
    "version": 3
   },
   "file_extension": ".py",
   "mimetype": "text/x-python",
   "name": "python",
   "nbconvert_exporter": "python",
   "pygments_lexer": "ipython3",
   "version": "3.7.3"
  }
 },
 "nbformat": 4,
 "nbformat_minor": 2
}
